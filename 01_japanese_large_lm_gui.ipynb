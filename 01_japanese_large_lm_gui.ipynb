{
  "nbformat": 4,
  "nbformat_minor": 0,
  "metadata": {
    "colab": {
      "provenance": [],
      "gpuType": "T4",
      "collapsed_sections": [
        "ny7hzKXanjyg"
      ],
      "authorship_tag": "ABX9TyNGSIAwnUK4QCSee8wYM0ZU",
      "include_colab_link": true
    },
    "kernelspec": {
      "name": "python3",
      "display_name": "Python 3"
    },
    "language_info": {
      "name": "python"
    },
    "accelerator": "GPU"
  },
  "cells": [
    {
      "cell_type": "markdown",
      "metadata": {
        "id": "view-in-github",
        "colab_type": "text"
      },
      "source": [
        "<a href=\"https://colab.research.google.com/github/DEmodoriGatsuO/huggingface-colab-apps/blob/main/01_japanese_large_lm_gui.ipynb\" target=\"_parent\"><img src=\"https://colab.research.google.com/assets/colab-badge.svg\" alt=\"Open In Colab\"/></a>"
      ]
    },
    {
      "cell_type": "markdown",
      "source": [
        "# japanese-large-lm GUI\n",
        "\n",
        "LINE NLP Foundation DevTeams\n",
        "japanese-large-lm GUI tool\n",
        "\n",
        "Language Model\n",
        "https://engineering.linecorp.com/ja/blog/3.6-billion-parameter-japanese-language-model"
      ],
      "metadata": {
        "id": "ny7hzKXanjyg"
      }
    },
    {
      "cell_type": "code",
      "source": [
        "!pip install transformers accelerate bitsandbytes\n",
        "!pip install sentencepiece\n",
        "!pip install ipywidgets\n",
        "!pip install gradio"
      ],
      "metadata": {
        "id": "lLJpBOWnnixJ"
      },
      "execution_count": null,
      "outputs": []
    },
    {
      "cell_type": "code",
      "source": [
        "#@title **Launch App**\n",
        "#@markdown　Execute and click URL ex: `Running on public URL: https://xxxx.gradio.app`\n",
        "\n",
        "import gradio as gr\n",
        "import torch\n",
        "from transformers import AutoModelForCausalLM, AutoTokenizer\n",
        "from IPython.display import clear_output\n",
        "\n",
        "def generate_text(prompt):\n",
        "    \"\"\"\n",
        "    Text to Text\n",
        "\n",
        "    Args:\n",
        "        prompt (str): テキスト生成のためのプロンプト。\n",
        "\n",
        "    Returns:\n",
        "        str: モデルから生成されたテキスト。\n",
        "    \"\"\"\n",
        "    # トークナイザーとモデルの準備\n",
        "    tokenizer = AutoTokenizer.from_pretrained(\n",
        "        \"line-corporation/japanese-large-lm-3.6b\",\n",
        "        use_fast=False\n",
        "    )\n",
        "    model = AutoModelForCausalLM.from_pretrained(\n",
        "        \"line-corporation/japanese-large-lm-3.6b\",\n",
        "        load_in_8bit=True,\n",
        "        torch_dtype=torch.float16,\n",
        "        device_map=\"auto\",\n",
        "    )\n",
        "\n",
        "    # 推論の実行\n",
        "    input_ids = tokenizer.encode(prompt, add_special_tokens=False, return_tensors=\"pt\")\n",
        "    tokens = model.generate(\n",
        "        input_ids.to(device=model.device),\n",
        "        max_length=30,\n",
        "        temperature=1.0,\n",
        "        do_sample=True,\n",
        "        pad_token_id=tokenizer.pad_token_id,\n",
        "    )\n",
        "    generated_text = tokenizer.decode(tokens[0])\n",
        "    return generated_text\n",
        "\n",
        "from IPython.display import clear_output\n",
        "\n",
        "block = gr.Blocks(css=\".container { max-width: 800px; margin: auto; }\")\n",
        "\n",
        "with block as demo:\n",
        "    gr.Markdown(\"Japanese-large-lm GUI Tool\")\n",
        "    gr.Markdown(\n",
        "        'japanese-large-lm useful web tool'\n",
        "    )\n",
        "    with gr.Group():\n",
        "        with gr.Box():\n",
        "            gr.Markdown(\n",
        "                'Enter prompt and Run!!'\n",
        "            )\n",
        "            with gr.Row().style(mobile_collapse=False, equal_height=True):\n",
        "\n",
        "                text = gr.Textbox(\n",
        "                    label='Enter prompt', show_label=False, max_lines=1\n",
        "                ).style(\n",
        "                    border=(True, False, True, True),\n",
        "                    rounded=(True, False, False, True),\n",
        "                    container=False,\n",
        "                )\n",
        "                btn = gr.Button(\"Run\").style(\n",
        "                    margin=False,\n",
        "                    rounded=(False, True, True, False),\n",
        "                )\n",
        "        result = gr.Textbox(label=\"result text\", show_label=False).style(\n",
        "            grid=[2], height = \"auto\"\n",
        "        )\n",
        "\n",
        "        btn.click(generate_text,\n",
        "                 inputs=text, outputs=result)\n",
        "\n",
        "    gr.Markdown(\n",
        "        \"\"\"___\n",
        "\n",
        "   Created by japanese language lm\n",
        "\n",
        "   \"\"\"\n",
        "    )\n",
        "\n",
        "clear_output()\n",
        "demo.launch(debug=True)"
      ],
      "metadata": {
        "id": "U-n_vjLioIyx",
        "cellView": "form"
      },
      "execution_count": null,
      "outputs": []
    },
    {
      "cell_type": "markdown",
      "source": [
        "# Reference\n",
        "\n",
        "*   https://karaage.hatenadiary.jp/entry/2022/08/29/073000\n",
        "*   https://note.com/npaka/n/ndf326abda939\n",
        "*   https://note.com/shi3zblog/n/nb999c81d01c3\n",
        "*   https://engineering.linecorp.com/ja/blog/3.6-billion-parameter-japanese-language-model"
      ],
      "metadata": {
        "id": "PKEUtzgIDJl3"
      }
    }
  ]
}